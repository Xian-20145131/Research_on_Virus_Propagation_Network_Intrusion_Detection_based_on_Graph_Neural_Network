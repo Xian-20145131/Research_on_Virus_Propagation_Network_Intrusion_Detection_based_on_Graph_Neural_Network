{
 "cells": [
  {
   "cell_type": "code",
   "execution_count": null,
   "metadata": {},
   "outputs": [],
   "source": [
    "import numpy as np\n",
    "import pandas as pd\n",
    "import matplotlib.pyplot as plt\n",
    "import seaborn as sns"
   ]
  },
  {
   "cell_type": "code",
   "execution_count": null,
   "metadata": {},
   "outputs": [],
   "source": [
    "from sklearn.model_selection import train_test_split\n",
    "import lightgbm as lgb\n",
    "from lightgbm.sklearn import LGBMClassifier\n",
    "from lightgbm import plot_importance\n",
    "from sklearn.model_selection import GridSearchCV\n",
    "from sklearn.utils import shuffle\n",
    "from sklearn.preprocessing import MinMaxScaler"
   ]
  },
  {
   "cell_type": "code",
   "execution_count": null,
   "metadata": {},
   "outputs": [],
   "source": [
    "from metrics import multi_evaluate"
   ]
  },
  {
   "cell_type": "code",
   "execution_count": null,
   "metadata": {},
   "outputs": [],
   "source": [
    "train_file = './data/kdd99/kddcup_10p_preprocessing_five.csv'\n",
    "df = pd.read_csv(train_file)"
   ]
  },
  {
   "cell_type": "code",
   "execution_count": null,
   "metadata": {},
   "outputs": [],
   "source": [
    "numerical_features = [x for x in df.columns if df[x].dtype == np.float64 or df[x].dtype == np.int64]\n",
    "categorical_features = [x for x in df.columns if df[x].dtype == object]"
   ]
  },
  {
   "cell_type": "code",
   "execution_count": null,
   "metadata": {},
   "outputs": [],
   "source": [
    "def discretization(x):\n",
    "    mapp = dict(zip(x.unique().tolist(),\n",
    "         range(len(x.unique().tolist()))))\n",
    "    def mapfunction(y):\n",
    "        if y in mapp:\n",
    "            return mapp[y]\n",
    "        else:\n",
    "            return -1\n",
    "    return mapfunction"
   ]
  },
  {
   "cell_type": "code",
   "execution_count": null,
   "metadata": {},
   "outputs": [],
   "source": [
    "for i in categorical_features:\n",
    "    df[i] = df[i].apply(discretization(df[i]))\n",
    "target = df.pop('label')\n",
    "categorical_features.remove('label')"
   ]
  },
  {
   "cell_type": "code",
   "execution_count": null,
   "metadata": {},
   "outputs": [],
   "source": [
    "x_train, x_test, y_train, y_test = train_test_split(df, target, test_size=0.2)"
   ]
  },
  {
   "cell_type": "code",
   "execution_count": null,
   "metadata": {},
   "outputs": [],
   "source": [
    "# features = pd.concat([train_df, test_df], axis=0)\n",
    "# target = features.pop('label')\n",
    "# x_train, x_test, y_train, y_test = train_test_split(features, target, test_size=0.2)\n",
    "\n",
    "clf = LGBMClassifier(subsample_freq=1, subsample=1, colsample_bytree=1, objective='multiclass')\n",
    "clf.fit(x_train, y_train, categorical_feature=categorical_features, eval_set=(x_test, y_test))\n",
    "# importance = pd.Series(clf.feature_importances_, index=df.columns)\n",
    "# importance = importance.sort_values(ascending=False)\n",
    "# importance"
   ]
  },
  {
   "cell_type": "code",
   "execution_count": null,
   "metadata": {},
   "outputs": [],
   "source": [
    "importance_10 = dict()\n",
    "for i in range(100):\n",
    "    x_train, x_test, y_train, y_test = train_test_split(df, target, test_size=0.0001)\n",
    "\n",
    "    clf = LGBMClassifier(subsample_freq=1, subsample=0.1, colsample_bytree=1, objective='multiclass')\n",
    "    clf.fit(x_train, y_train, categorical_feature=categorical_features)\n",
    "    importance_10[i] = clf.feature_importances_"
   ]
  },
  {
   "cell_type": "code",
   "execution_count": null,
   "metadata": {},
   "outputs": [],
   "source": [
    "importance_20 = dict()\n",
    "for i in range(100):\n",
    "    x_train, x_test, y_train, y_test = train_test_split(df, target, test_size=0.0001)\n",
    "\n",
    "    clf = LGBMClassifier(subsample_freq=1, subsample=0.2, colsample_bytree=1, objective='multiclass')\n",
    "    clf.fit(x_train, y_train, categorical_feature=categorical_features)\n",
    "    importance_20[i] = clf.feature_importances_"
   ]
  },
  {
   "cell_type": "code",
   "execution_count": null,
   "metadata": {},
   "outputs": [],
   "source": [
    "importance_30 = dict()\n",
    "for i in range(100):\n",
    "    x_train, x_test, y_train, y_test = train_test_split(df, target, test_size=0.0001)\n",
    "\n",
    "    clf = LGBMClassifier(subsample_freq=1, subsample=0.3, colsample_bytree=1, objective='multiclass')\n",
    "    clf.fit(x_train, y_train, categorical_feature=categorical_features)\n",
    "    importance_30[i] = clf.feature_importances_"
   ]
  },
  {
   "cell_type": "code",
   "execution_count": null,
   "metadata": {},
   "outputs": [],
   "source": [
    "importance_40 = dict()\n",
    "for i in range(100):\n",
    "    x_train, x_test, y_train, y_test = train_test_split(df, target, test_size=0.0001)\n",
    "\n",
    "    clf = LGBMClassifier(subsample_freq=1, subsample=0.4, colsample_bytree=1, objective='multiclass')\n",
    "    clf.fit(x_train, y_train, categorical_feature=categorical_features)\n",
    "    importance_40[i] = clf.feature_importances_"
   ]
  },
  {
   "cell_type": "code",
   "execution_count": null,
   "metadata": {},
   "outputs": [],
   "source": [
    "importance_50 = dict()\n",
    "for i in range(100):\n",
    "    x_train, x_test, y_train, y_test = train_test_split(df, target, test_size=0.0001)\n",
    "\n",
    "    clf = LGBMClassifier(subsample_freq=1, subsample=0.5, colsample_bytree=1, objective='multiclass')\n",
    "    clf.fit(x_train, y_train, categorical_feature=categorical_features)\n",
    "    importance_50[i] = clf.feature_importances_"
   ]
  },
  {
   "cell_type": "code",
   "execution_count": null,
   "metadata": {},
   "outputs": [],
   "source": [
    "importance_60 = dict()\n",
    "for i in range(100):\n",
    "    x_train, x_test, y_train, y_test = train_test_split(df, target, test_size=0.0001)\n",
    "\n",
    "    clf = LGBMClassifier(subsample_freq=1, subsample=0.6, colsample_bytree=1, objective='multiclass')\n",
    "    clf.fit(x_train, y_train, categorical_feature=categorical_features)\n",
    "    importance_60[i] = clf.feature_importances_"
   ]
  },
  {
   "cell_type": "code",
   "execution_count": null,
   "metadata": {},
   "outputs": [],
   "source": [
    "importance_70 = dict()\n",
    "for i in range(100):\n",
    "    x_train, x_test, y_train, y_test = train_test_split(df, target, test_size=0.0001)\n",
    "\n",
    "    clf = LGBMClassifier(subsample_freq=1, subsample=0.7, colsample_bytree=1, objective='multiclass')\n",
    "    clf.fit(x_train, y_train, categorical_feature=categorical_features)\n",
    "    importance_70[i] = clf.feature_importances_"
   ]
  },
  {
   "cell_type": "code",
   "execution_count": null,
   "metadata": {},
   "outputs": [],
   "source": [
    "importance_80 = dict()\n",
    "for i in range(100):\n",
    "    x_train, x_test, y_train, y_test = train_test_split(df, target, test_size=0.0001)\n",
    "\n",
    "    clf = LGBMClassifier(subsample_freq=1, subsample=0.8, colsample_bytree=1, objective='multiclass')\n",
    "    clf.fit(x_train, y_train, categorical_feature=categorical_features)\n",
    "    importance_80[i] = clf.feature_importances_"
   ]
  },
  {
   "cell_type": "code",
   "execution_count": null,
   "metadata": {},
   "outputs": [],
   "source": [
    "importance_90 = dict()\n",
    "for i in range(100):\n",
    "    x_train, x_test, y_train, y_test = train_test_split(df, target, test_size=0.0001)\n",
    "\n",
    "    clf = LGBMClassifier(subsample_freq=1, subsample=0.9, colsample_bytree=1, objective='multiclass')\n",
    "    clf.fit(x_train, y_train, categorical_feature=categorical_features)\n",
    "    importance_90[i] = clf.feature_importances_"
   ]
  },
  {
   "cell_type": "code",
   "execution_count": null,
   "metadata": {},
   "outputs": [],
   "source": [
    "importance_100 = dict()\n",
    "for i in range(100):\n",
    "    x_train, x_test, y_train, y_test = train_test_split(df, target, test_size=0.0001)\n",
    "\n",
    "    clf = LGBMClassifier(subsample_freq=1, subsample=1, colsample_bytree=1, objective='multiclass')\n",
    "    clf.fit(x_train, y_train, categorical_feature=categorical_features)\n",
    "    importance_100[i] = clf.feature_importances_"
   ]
  },
  {
   "cell_type": "code",
   "execution_count": null,
   "metadata": {},
   "outputs": [],
   "source": [
    "pd.DataFrame(importance_10, index=df.columns).sum(axis=1).sort_values(ascending=False).to_csv('importance_10.csv')\n",
    "pd.DataFrame(importance_20, index=df.columns).sum(axis=1).sort_values(ascending=False).to_csv('importance_20.csv')\n",
    "pd.DataFrame(importance_30, index=df.columns).sum(axis=1).sort_values(ascending=False).to_csv('importance_30.csv')\n",
    "pd.DataFrame(importance_40, index=df.columns).sum(axis=1).sort_values(ascending=False).to_csv('importance_40.csv')\n",
    "pd.DataFrame(importance_50, index=df.columns).sum(axis=1).sort_values(ascending=False).to_csv('importance_50.csv')\n",
    "pd.DataFrame(importance_60, index=df.columns).sum(axis=1).sort_values(ascending=False).to_csv('importance_60.csv')\n",
    "pd.DataFrame(importance_70, index=df.columns).sum(axis=1).sort_values(ascending=False).to_csv('importance_70.csv')\n",
    "pd.DataFrame(importance_80, index=df.columns).sum(axis=1).sort_values(ascending=False).to_csv('importance_80.csv')\n",
    "pd.DataFrame(importance_90, index=df.columns).sum(axis=1).sort_values(ascending=False).to_csv('importance_90.csv')\n",
    "pd.DataFrame(importance_100, index=df.columns).sum(axis=1).sort_values(ascending=False).to_csv('importance_100.csv')"
   ]
  },
  {
   "cell_type": "code",
   "execution_count": null,
   "metadata": {},
   "outputs": [],
   "source": [
    "pd.DataFrame(importance_10, index=df.columns).to_csv('importance_raw_10.csv')\n",
    "pd.DataFrame(importance_20, index=df.columns).to_csv('importance_raw_20.csv')\n",
    "pd.DataFrame(importance_30, index=df.columns).to_csv('importance_raw_30.csv')\n",
    "pd.DataFrame(importance_40, index=df.columns).to_csv('importance_raw_40.csv')\n",
    "pd.DataFrame(importance_50, index=df.columns).to_csv('importance_raw_50.csv')\n",
    "pd.DataFrame(importance_60, index=df.columns).to_csv('importance_raw_60.csv')\n",
    "pd.DataFrame(importance_70, index=df.columns).to_csv('importance_raw_70.csv')\n",
    "pd.DataFrame(importance_80, index=df.columns).to_csv('importance_raw_80.csv')\n",
    "pd.DataFrame(importance_90, index=df.columns).to_csv('importance_raw_90.csv')\n",
    "pd.DataFrame(importance_100, index=df.columns).to_csv('importance_raw_100.csv')"
   ]
  },
  {
   "cell_type": "code",
   "execution_count": null,
   "metadata": {},
   "outputs": [],
   "source": []
  }
 ],
 "metadata": {
  "kernelspec": {
   "display_name": "Python 3.8.8 64-bit ('ml': conda)",
   "name": "python388jvsc74a57bd0c063453029bf02eaa80ce91462854ae2e086716382199d580e359e6e99bd2bfc"
  },
  "language_info": {
   "codemirror_mode": {
    "name": "ipython",
    "version": 3
   },
   "file_extension": ".py",
   "mimetype": "text/x-python",
   "name": "python",
   "nbconvert_exporter": "python",
   "pygments_lexer": "ipython3",
   "version": "3.8.8"
  },
  "metadata": {
   "interpreter": {
    "hash": "c063453029bf02eaa80ce91462854ae2e086716382199d580e359e6e99bd2bfc"
   }
  },
  "orig_nbformat": 2
 },
 "nbformat": 4,
 "nbformat_minor": 2
}