{
 "cells": [
  {
   "cell_type": "code",
   "execution_count": 1,
   "metadata": {},
   "outputs": [],
   "source": [
    "import numpy as np\n",
    "import pandas as pd\n",
    "import matplotlib.pyplot as plt\n",
    "import seaborn as sns\n",
    "from sklearn.preprocessing import OneHotEncoder, MinMaxScaler, LabelEncoder\n",
    "from sklearn.model_selection import train_test_split, KFold\n",
    "from metrics import binary_evaluate\n",
    "import time\n",
    "import copy"
   ]
  },
  {
   "cell_type": "code",
   "execution_count": 2,
   "metadata": {},
   "outputs": [],
   "source": [
    "from sklearn.model_selection import train_test_split\n",
    "from sklearn.model_selection import GridSearchCV\n",
    "from metrics import multi_evaluate"
   ]
  },
  {
   "cell_type": "code",
   "execution_count": 3,
   "metadata": {},
   "outputs": [],
   "source": [
    "from sklearn.linear_model import LogisticRegression\n",
    "from sklearn.svm import SVC\n",
    "from sklearn.svm import LinearSVC\n",
    "from sklearn.tree import DecisionTreeClassifier\n",
    "from sklearn.ensemble import RandomForestClassifier\n",
    "from sklearn.neighbors import KNeighborsClassifier\n",
    "from sklearn.naive_bayes import GaussianNB"
   ]
  },
  {
   "cell_type": "code",
   "execution_count": 4,
   "metadata": {},
   "outputs": [],
   "source": [
    "def preprocessing(raw_data):\n",
    "    df = copy.deepcopy(raw_data)\n",
    "    label = 'label'\n",
    "    target = df.pop(label)\n",
    "    \n",
    "    numerical_features = [x for x in df.columns if df[x].dtype == np.float64 or df[x].dtype == np.int64]\n",
    "    categorical_features = [x for x in df.columns if df[x].dtype == object]\n",
    "    \n",
    "    # convert object to int\n",
    "    lbe = LabelEncoder()\n",
    "    for feat in categorical_features:\n",
    "        df[feat] = lbe.fit_transform(df[feat])\n",
    "    \n",
    "    # normalize the features\n",
    "    mms = MinMaxScaler()\n",
    "    df[numerical_features] = mms.fit_transform(df[numerical_features])\n",
    "    \n",
    "    return df, target, numerical_features, categorical_features"
   ]
  },
  {
   "cell_type": "code",
   "execution_count": 5,
   "metadata": {},
   "outputs": [],
   "source": [
    "train_path = './data/nslkdd/KDDTrain_five_class.csv'\n",
    "raw_data = pd.read_csv(train_path)\n",
    "raw_data['label'] = raw_data['types']\n",
    "raw_data.drop('types', axis=1, inplace=True)\n",
    "type2idx = {type: idx for idx, type in enumerate(raw_data['label'].unique())}\n",
    "idx2type = {idx: type for idx, type in enumerate(raw_data['label'].unique())}\n",
    "raw_data['label'] = raw_data['label'].apply(lambda x: type2idx[x])\n",
    "raw_data.label = raw_data.label.astype(int)"
   ]
  },
  {
   "cell_type": "code",
   "execution_count": 6,
   "metadata": {},
   "outputs": [],
   "source": [
    "features, target, numerical_features, categorical_features = preprocessing(raw_data)"
   ]
  },
  {
   "cell_type": "code",
   "execution_count": 10,
   "metadata": {},
   "outputs": [],
   "source": [
    "total_details = dict()"
   ]
  },
  {
   "cell_type": "code",
   "execution_count": 11,
   "metadata": {},
   "outputs": [],
   "source": [
    "cv_details = dict()\n",
    "kf = KFold(n_splits=5, shuffle=True, random_state=1)\n",
    "for idx, (train_idx, test_idx) in enumerate(kf.split(features, target)):\n",
    "    x_train, y_train, x_test, y_test = features.loc[train_idx], target.loc[train_idx], features.loc[test_idx], target.loc[test_idx]\n",
    "    lr = LogisticRegression(max_iter=100000)\n",
    "    train_start_time = time.perf_counter()\n",
    "    lr.fit(x_train, y_train)\n",
    "    train_end_time = time.perf_counter()\n",
    "\n",
    "    test_start_time = time.perf_counter()\n",
    "    y_pred = lr.predict(x_test)\n",
    "    test_end_time = time.perf_counter()\n",
    "\n",
    "    detail = multi_evaluate(y_test, y_pred, idx2type)\n",
    "    detail['training_time'] = train_end_time - train_start_time\n",
    "    detail['testing_time'] = test_end_time - test_start_time\n",
    "    cv_details[idx+1] = detail\n",
    "total_details['lr'] = cv_details"
   ]
  },
  {
   "cell_type": "code",
   "execution_count": 12,
   "metadata": {},
   "outputs": [],
   "source": [
    "cv_details = dict()\n",
    "kf = KFold(n_splits=5, shuffle=True, random_state=1)\n",
    "for idx, (train_idx, test_idx) in enumerate(kf.split(features, target)):\n",
    "    x_train, y_train, x_test, y_test = features.loc[train_idx], target.loc[train_idx], features.loc[test_idx], target.loc[test_idx]\n",
    "    cart = DecisionTreeClassifier()\n",
    "    train_start_time = time.perf_counter()\n",
    "    cart.fit(x_train, y_train)\n",
    "    train_end_time = time.perf_counter()\n",
    "\n",
    "    test_start_time = time.perf_counter()\n",
    "    y_pred = cart.predict(x_test)\n",
    "    test_end_time = time.perf_counter()\n",
    "\n",
    "    detail = multi_evaluate(y_test, y_pred, idx2type)\n",
    "    detail['training_time'] = train_end_time - train_start_time\n",
    "    detail['testing_time'] = test_end_time - test_start_time\n",
    "    cv_details[idx+1] = detail\n",
    "total_details['CART'] = cv_details"
   ]
  },
  {
   "cell_type": "code",
   "execution_count": 13,
   "metadata": {},
   "outputs": [],
   "source": [
    "cv_details = dict()\n",
    "kf = KFold(n_splits=5, shuffle=True, random_state=1)\n",
    "for idx, (train_idx, test_idx) in enumerate(kf.split(features, target)):\n",
    "    x_train, y_train, x_test, y_test = features.loc[train_idx], target.loc[train_idx], features.loc[test_idx], target.loc[test_idx]\n",
    "    c45 = DecisionTreeClassifier(criterion='entropy')\n",
    "    train_start_time = time.perf_counter()\n",
    "    c45.fit(x_train, y_train)\n",
    "    train_end_time = time.perf_counter()\n",
    "\n",
    "    test_start_time = time.perf_counter()\n",
    "    y_pred = c45.predict(x_test)\n",
    "    test_end_time = time.perf_counter()\n",
    "\n",
    "    detail = multi_evaluate(y_test, y_pred, idx2type)\n",
    "    detail['training_time'] = train_end_time - train_start_time\n",
    "    detail['testing_time'] = test_end_time - test_start_time\n",
    "    cv_details[idx+1] = detail\n",
    "total_details['C4.5'] = cv_details"
   ]
  },
  {
   "cell_type": "code",
   "execution_count": 14,
   "metadata": {},
   "outputs": [],
   "source": [
    "cv_details = dict()\n",
    "kf = KFold(n_splits=5, shuffle=True, random_state=1)\n",
    "for idx, (train_idx, test_idx) in enumerate(kf.split(features, target)):\n",
    "    x_train, y_train, x_test, y_test = features.loc[train_idx], target.loc[train_idx], features.loc[test_idx], target.loc[test_idx]\n",
    "    knn = KNeighborsClassifier()\n",
    "    train_start_time = time.perf_counter()\n",
    "    knn.fit(x_train, y_train)\n",
    "    train_end_time = time.perf_counter()\n",
    "\n",
    "    test_start_time = time.perf_counter()\n",
    "    y_pred = knn.predict(x_test)\n",
    "    test_end_time = time.perf_counter()\n",
    "\n",
    "    detail = multi_evaluate(y_test, y_pred, idx2type)\n",
    "    detail['training_time'] = train_end_time - train_start_time\n",
    "    detail['testing_time'] = test_end_time - test_start_time\n",
    "    cv_details[idx+1] = detail\n",
    "total_details['KNN'] = cv_details"
   ]
  },
  {
   "cell_type": "code",
   "execution_count": 15,
   "metadata": {},
   "outputs": [],
   "source": [
    "cv_details = dict()\n",
    "kf = KFold(n_splits=5, shuffle=True, random_state=1)\n",
    "for idx, (train_idx, test_idx) in enumerate(kf.split(features, target)):\n",
    "    x_train, y_train, x_test, y_test = features.loc[train_idx], target.loc[train_idx], features.loc[test_idx], target.loc[test_idx]\n",
    "    nb = GaussianNB()\n",
    "    train_start_time = time.perf_counter()\n",
    "    nb.fit(x_train, y_train)\n",
    "    train_end_time = time.perf_counter()\n",
    "\n",
    "    test_start_time = time.perf_counter()\n",
    "    y_pred = nb.predict(x_test)\n",
    "    test_end_time = time.perf_counter()\n",
    "   \n",
    "    detail = multi_evaluate(y_test, y_pred, idx2type)\n",
    "    detail['training_time'] = train_end_time - train_start_time\n",
    "    detail['testing_time'] = test_end_time - test_start_time\n",
    "    cv_details[idx+1] = detail\n",
    "total_details['NB'] = cv_details"
   ]
  },
  {
   "cell_type": "code",
   "execution_count": 16,
   "metadata": {},
   "outputs": [],
   "source": [
    "cv_details = dict()\n",
    "kf = KFold(n_splits=5, shuffle=True, random_state=1)\n",
    "for idx, (train_idx, test_idx) in enumerate(kf.split(features, target)):\n",
    "    x_train, y_train, x_test, y_test = features.loc[train_idx], target.loc[train_idx], features.loc[test_idx], target.loc[test_idx]\n",
    "    rf = RandomForestClassifier()\n",
    "    train_start_time = time.perf_counter()\n",
    "    rf.fit(x_train, y_train)\n",
    "    train_end_time = time.perf_counter()\n",
    "\n",
    "    test_start_time = time.perf_counter()\n",
    "    y_pred = rf.predict(x_test)\n",
    "    test_end_time = time.perf_counter()\n",
    "\n",
    "    detail = multi_evaluate(y_test, y_pred, idx2type)\n",
    "    detail['training_time'] = train_end_time - train_start_time\n",
    "    detail['testing_time'] = test_end_time - test_start_time\n",
    "    cv_details[idx+1] = detail\n",
    "total_details['RF'] = cv_details"
   ]
  },
  {
   "cell_type": "code",
   "execution_count": 17,
   "metadata": {},
   "outputs": [
    {
     "name": "stderr",
     "output_type": "stream",
     "text": [
      "/home/hadoop/anaconda3/envs/ml/lib/python3.8/site-packages/sklearn/svm/_base.py:985: ConvergenceWarning: Liblinear failed to converge, increase the number of iterations.\n",
      "  warnings.warn(\"Liblinear failed to converge, increase \"\n",
      "/home/hadoop/anaconda3/envs/ml/lib/python3.8/site-packages/sklearn/svm/_base.py:985: ConvergenceWarning: Liblinear failed to converge, increase the number of iterations.\n",
      "  warnings.warn(\"Liblinear failed to converge, increase \"\n",
      "/home/hadoop/anaconda3/envs/ml/lib/python3.8/site-packages/sklearn/svm/_base.py:985: ConvergenceWarning: Liblinear failed to converge, increase the number of iterations.\n",
      "  warnings.warn(\"Liblinear failed to converge, increase \"\n",
      "/home/hadoop/anaconda3/envs/ml/lib/python3.8/site-packages/sklearn/svm/_base.py:985: ConvergenceWarning: Liblinear failed to converge, increase the number of iterations.\n",
      "  warnings.warn(\"Liblinear failed to converge, increase \"\n",
      "/home/hadoop/anaconda3/envs/ml/lib/python3.8/site-packages/sklearn/svm/_base.py:985: ConvergenceWarning: Liblinear failed to converge, increase the number of iterations.\n",
      "  warnings.warn(\"Liblinear failed to converge, increase \"\n"
     ]
    }
   ],
   "source": [
    "cv_details = dict()\n",
    "kf = KFold(n_splits=5, shuffle=True, random_state=1)\n",
    "for idx, (train_idx, test_idx) in enumerate(kf.split(features, target)):\n",
    "    x_train, y_train, x_test, y_test = features.loc[train_idx], target.loc[train_idx], features.loc[test_idx], target.loc[test_idx]\n",
    "    svc = LinearSVC()\n",
    "    train_start_time = time.perf_counter()\n",
    "    svc.fit(x_train, y_train)\n",
    "    train_end_time = time.perf_counter()\n",
    "\n",
    "    test_start_time = time.perf_counter()\n",
    "    y_pred = svc.predict(x_test)\n",
    "    test_end_time = time.perf_counter()\n",
    "\n",
    "    detail = multi_evaluate(y_test, y_pred, idx2type)\n",
    "    detail['training_time'] = train_end_time - train_start_time\n",
    "    detail['testing_time'] = test_end_time - test_start_time\n",
    "    cv_details[idx+1] = detail\n",
    "total_details['SVC'] = cv_details"
   ]
  },
  {
   "cell_type": "code",
   "execution_count": 23,
   "metadata": {},
   "outputs": [],
   "source": [
    "result = pd.DataFrame.from_dict({(i, j, k): total_details[i][j][k] for i in total_details.keys() for j in total_details[i].keys() for k in total_details[i][j].keys()}).T\n"
   ]
  },
  {
   "cell_type": "code",
   "execution_count": 25,
   "metadata": {},
   "outputs": [],
   "source": [
    "result.index.names = ['learner', 'cv', 'type']"
   ]
  },
  {
   "cell_type": "code",
   "execution_count": 29,
   "metadata": {},
   "outputs": [],
   "source": [
    "result.to_csv('./result/nslkdd/five/baseline.csv')"
   ]
  },
  {
   "cell_type": "code",
   "execution_count": null,
   "metadata": {},
   "outputs": [],
   "source": []
  }
 ],
 "metadata": {
  "interpreter": {
   "hash": "c063453029bf02eaa80ce91462854ae2e086716382199d580e359e6e99bd2bfc"
  },
  "kernelspec": {
   "display_name": "Python 3.8.8 64-bit ('ml': conda)",
   "name": "python3"
  },
  "language_info": {
   "codemirror_mode": {
    "name": "ipython",
    "version": 3
   },
   "file_extension": ".py",
   "mimetype": "text/x-python",
   "name": "python",
   "nbconvert_exporter": "python",
   "pygments_lexer": "ipython3",
   "version": "3.8.8"
  },
  "metadata": {
   "interpreter": {
    "hash": "c063453029bf02eaa80ce91462854ae2e086716382199d580e359e6e99bd2bfc"
   }
  },
  "orig_nbformat": 2
 },
 "nbformat": 4,
 "nbformat_minor": 2
}