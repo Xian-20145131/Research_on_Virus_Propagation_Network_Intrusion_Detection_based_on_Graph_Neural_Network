{
 "metadata": {
  "language_info": {
   "codemirror_mode": {
    "name": "ipython",
    "version": 3
   },
   "file_extension": ".py",
   "mimetype": "text/x-python",
   "name": "python",
   "nbconvert_exporter": "python",
   "pygments_lexer": "ipython3",
   "version": "3.8.8"
  },
  "orig_nbformat": 2,
  "kernelspec": {
   "name": "python388jvsc74a57bd0c063453029bf02eaa80ce91462854ae2e086716382199d580e359e6e99bd2bfc",
   "display_name": "Python 3.8.8 64-bit ('ml': conda)"
  },
  "metadata": {
   "interpreter": {
    "hash": "c063453029bf02eaa80ce91462854ae2e086716382199d580e359e6e99bd2bfc"
   }
  }
 },
 "nbformat": 4,
 "nbformat_minor": 2,
 "cells": [
  {
   "cell_type": "code",
   "execution_count": 1,
   "metadata": {},
   "outputs": [],
   "source": [
    "import numpy as np\n",
    "import pandas as pd\n",
    "import matplotlib.pyplot as plt\n",
    "import seaborn as sns"
   ]
  },
  {
   "cell_type": "code",
   "execution_count": 2,
   "metadata": {},
   "outputs": [],
   "source": [
    "importance_10 = pd.read_csv('./importance/nslkdd/five/importance_10.csv', index_col=0)\n",
    "importance_20 = pd.read_csv('./importance/nslkdd/five/importance_20.csv', index_col=0)\n",
    "importance_30 = pd.read_csv('./importance/nslkdd/five/importance_30.csv', index_col=0)\n",
    "importance_40 = pd.read_csv('./importance/nslkdd/five/importance_40.csv', index_col=0)\n",
    "importance_50 = pd.read_csv('./importance/nslkdd/five/importance_50.csv', index_col=0)\n",
    "importance_60 = pd.read_csv('./importance/nslkdd/five/importance_60.csv', index_col=0)\n",
    "importance_70 = pd.read_csv('./importance/nslkdd/five/importance_70.csv', index_col=0)\n",
    "importance_80 = pd.read_csv('./importance/nslkdd/five/importance_80.csv', index_col=0)\n",
    "importance_90 = pd.read_csv('./importance/nslkdd/five/importance_90.csv', index_col=0)\n",
    "importance_100 = pd.read_csv('./importance/nslkdd/five/importance_100.csv', index_col=0)"
   ]
  },
  {
   "cell_type": "code",
   "execution_count": 5,
   "metadata": {},
   "outputs": [],
   "source": [
    "importance = pd.concat([importance_10, importance_20, importance_30, importance_40, importance_50, importance_60, importance_70, importance_80, importance_90, importance_100], axis=1)\n",
    "importance.columns = range(10, 110, 10)"
   ]
  },
  {
   "cell_type": "code",
   "execution_count": 7,
   "metadata": {},
   "outputs": [],
   "source": [
    "importance.to_csv('./importance.csv')"
   ]
  },
  {
   "cell_type": "code",
   "execution_count": 28,
   "metadata": {},
   "outputs": [],
   "source": [
    "importance_raw_10 = pd.read_csv('./importance_raw/importance_raw_10.csv', index_col=0)"
   ]
  },
  {
   "cell_type": "code",
   "execution_count": 43,
   "metadata": {},
   "outputs": [
    {
     "output_type": "execute_result",
     "data": {
      "text/plain": [
       "array([[145, 129, 139, ..., 138, 154, 147],\n",
       "       [105,  85,  88, ..., 113,  96,  87],\n",
       "       [ 83,  84,  90, ...,  89,  90,  85],\n",
       "       ...,\n",
       "       [ 84,  79,  74, ...,  85,  89,  92],\n",
       "       [115, 120, 106, ..., 104, 109, 115],\n",
       "       [ 31,  37,  37, ...,  41,  39,  31]])"
      ]
     },
     "metadata": {},
     "execution_count": 43
    }
   ],
   "source": [
    "importance_raw_10.values"
   ]
  },
  {
   "cell_type": "code",
   "execution_count": 50,
   "metadata": {},
   "outputs": [
    {
     "output_type": "stream",
     "name": "stdout",
     "text": [
      "is_host_login                    0\nsu_attempted                     0\nurgent                           0\nnum_outbound_cmds                0\nflag                             0\nsrv_rerror_rate                  3\nis_guest_login                   5\nwrong_fragment                   7\nnum_shells                       7\nnum_access_files                 8\nsrv_serror_rate                 10\nland                            11\nnum_failed_logins               13\nsrv_diff_host_rate              15\nserror_rate                     17\nroot_shell                      17\nnum_compromised                 19\nnum_root                        23\nnum_file_creations              26\nlogged_in                       28\ndst_host_srv_rerror_rate        31\nrerror_rate                     36\nsame_srv_rate                   38\ndiff_srv_rate                   41\nsrv_count                       57\nservice                         83\ndst_host_srv_serror_rate        84\nhot                             92\ncount                           94\ndst_host_srv_diff_host_rate     95\ndst_host_serror_rate           103\nprotocol_type                  105\ndst_host_rerror_rate           115\nduration                       145\ndst_host_same_srv_rate         148\ndst_host_diff_srv_rate         174\ndst_host_same_src_port_rate    186\ndst_host_count                 197\ndst_bytes                      224\ndst_host_srv_count             230\nsrc_bytes                      513\nName: 0, dtype: int64\n"
     ]
    }
   ],
   "source": [
    "for i, row in enumerate(importance_raw_10.T.values):\n",
    "    print(importance_raw_10.iloc[:, i].sort_values())\n",
    "    break"
   ]
  },
  {
   "cell_type": "code",
   "execution_count": 4,
   "metadata": {},
   "outputs": [],
   "source": [
    "nslkdd_feature_importance = pd.read_csv('./importance/nslkdd/binary/importance.csv', index_col=0)"
   ]
  },
  {
   "cell_type": "code",
   "execution_count": 8,
   "metadata": {},
   "outputs": [
    {
     "output_type": "execute_result",
     "data": {
      "text/plain": [
       "src_bytes                      50932\n",
       "dst_host_srv_count             23480\n",
       "dst_bytes                      21576\n",
       "dst_host_same_src_port_rate    18481\n",
       "dst_host_diff_srv_rate         18453\n",
       "dst_host_count                 18229\n",
       "dst_host_same_srv_rate         15887\n",
       "duration                       13910\n",
       "dst_host_rerror_rate           11194\n",
       "dst_host_srv_diff_host_rate    10311\n",
       "count                          10033\n",
       "protocol_type                   9841\n",
       "hot                             9661\n",
       "dst_host_serror_rate            9197\n",
       "service                         8685\n",
       "dst_host_srv_serror_rate        8151\n",
       "srv_count                       5801\n",
       "diff_srv_rate                   4204\n",
       "same_srv_rate                   4095\n",
       "dst_host_srv_rerror_rate        3735\n",
       "logged_in                       3196\n",
       "rerror_rate                     2787\n",
       "num_file_creations              2542\n",
       "num_compromised                 2235\n",
       "num_root                        1985\n",
       "srv_serror_rate                 1559\n",
       "land                            1399\n",
       "root_shell                      1385\n",
       "srv_diff_host_rate              1354\n",
       "serror_rate                     1323\n",
       "num_failed_logins               1251\n",
       "num_access_files                 788\n",
       "num_shells                       657\n",
       "srv_rerror_rate                  636\n",
       "wrong_fragment                   421\n",
       "is_guest_login                   392\n",
       "su_attempted                     133\n",
       "flag                             101\n",
       "num_outbound_cmds                  0\n",
       "urgent                             0\n",
       "is_host_login                      0\n",
       "Name: 10, dtype: int64"
      ]
     },
     "metadata": {},
     "execution_count": 8
    }
   ],
   "source": [
    "cnt = 0\n",
    "nslkdd_feature_importance['10'].sort_values(ascending=False)"
   ]
  },
  {
   "cell_type": "code",
   "execution_count": null,
   "metadata": {},
   "outputs": [],
   "source": []
  }
 ]
}