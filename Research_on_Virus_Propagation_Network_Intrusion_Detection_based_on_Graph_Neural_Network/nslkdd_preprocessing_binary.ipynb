{
 "metadata": {
  "language_info": {
   "codemirror_mode": {
    "name": "ipython",
    "version": 3
   },
   "file_extension": ".py",
   "mimetype": "text/x-python",
   "name": "python",
   "nbconvert_exporter": "python",
   "pygments_lexer": "ipython3",
   "version": "3.8.8"
  },
  "orig_nbformat": 2,
  "kernelspec": {
   "name": "python388jvsc74a57bd0c063453029bf02eaa80ce91462854ae2e086716382199d580e359e6e99bd2bfc",
   "display_name": "Python 3.8.8 64-bit ('ml': conda)"
  },
  "metadata": {
   "interpreter": {
    "hash": "c063453029bf02eaa80ce91462854ae2e086716382199d580e359e6e99bd2bfc"
   }
  }
 },
 "nbformat": 4,
 "nbformat_minor": 2,
 "cells": [
  {
   "cell_type": "code",
   "execution_count": 1,
   "metadata": {},
   "outputs": [],
   "source": [
    "import numpy as np\n",
    "import pandas as pd\n",
    "import matplotlib.pyplot as plt\n",
    "import seaborn as sns\n",
    "from scipy.io.arff import loadarff"
   ]
  },
  {
   "cell_type": "code",
   "execution_count": 2,
   "metadata": {},
   "outputs": [],
   "source": [
    "import arff"
   ]
  },
  {
   "cell_type": "code",
   "execution_count": 3,
   "metadata": {},
   "outputs": [],
   "source": [
    "fp = open('./data/nslkdd/KDDTrain+.arff')\n",
    "raw_data = arff.load(fp)"
   ]
  },
  {
   "cell_type": "code",
   "execution_count": 4,
   "metadata": {},
   "outputs": [],
   "source": [
    "col_names = ['duration', 'protocol_type', 'service', 'flag', 'src_bytes', \n",
    "             'dst_bytes', 'land', 'wrong_fragment', 'urgent', 'hot', \n",
    "             'num_failed_logins', 'logged_in', 'num_compromised', 'root_shell',\n",
    "             'su_attempted', 'num_root', 'num_file_creations', 'num_shells', \n",
    "             'num_access_files', 'num_outbound_cmds', 'is_host_login', \n",
    "             'is_guest_login', 'count', 'srv_count', 'serror_rate', \n",
    "             'srv_serror_rate', 'rerror_rate', 'srv_rerror_rate', \n",
    "             'same_srv_rate', 'diff_srv_rate', 'srv_diff_host_rate', \n",
    "             'dst_host_count', 'dst_host_srv_count', 'dst_host_same_srv_rate', \n",
    "             'dst_host_diff_srv_rate', 'dst_host_same_src_port_rate',\n",
    "             'dst_host_srv_diff_host_rate', 'dst_host_serror_rate', \n",
    "             'dst_host_srv_serror_rate', 'dst_host_rerror_rate', \n",
    "             'dst_host_srv_rerror_rate', 'label']\n",
    "\n",
    "kdd_train = pd.DataFrame(raw_data['data'], columns=col_names)"
   ]
  },
  {
   "cell_type": "code",
   "execution_count": 5,
   "metadata": {},
   "outputs": [
    {
     "output_type": "execute_result",
     "data": {
      "text/plain": [
       "        duration protocol_type   service flag  src_bytes  dst_bytes land  \\\n",
       "0            0.0           tcp  ftp_data   SF      491.0        0.0    0   \n",
       "1            0.0           udp     other   SF      146.0        0.0    0   \n",
       "2            0.0           tcp   private   S0        0.0        0.0    0   \n",
       "3            0.0           tcp      http   SF      232.0     8153.0    0   \n",
       "4            0.0           tcp      http   SF      199.0      420.0    0   \n",
       "...          ...           ...       ...  ...        ...        ...  ...   \n",
       "125968       0.0           tcp   private   S0        0.0        0.0    0   \n",
       "125969       8.0           udp   private   SF      105.0      145.0    0   \n",
       "125970       0.0           tcp      smtp   SF     2231.0      384.0    0   \n",
       "125971       0.0           tcp    klogin   S0        0.0        0.0    0   \n",
       "125972       0.0           tcp  ftp_data   SF      151.0        0.0    0   \n",
       "\n",
       "        wrong_fragment  urgent  hot  ...  dst_host_srv_count  \\\n",
       "0                  0.0     0.0  0.0  ...                25.0   \n",
       "1                  0.0     0.0  0.0  ...                 1.0   \n",
       "2                  0.0     0.0  0.0  ...                26.0   \n",
       "3                  0.0     0.0  0.0  ...               255.0   \n",
       "4                  0.0     0.0  0.0  ...               255.0   \n",
       "...                ...     ...  ...  ...                 ...   \n",
       "125968             0.0     0.0  0.0  ...                25.0   \n",
       "125969             0.0     0.0  0.0  ...               244.0   \n",
       "125970             0.0     0.0  0.0  ...                30.0   \n",
       "125971             0.0     0.0  0.0  ...                 8.0   \n",
       "125972             0.0     0.0  0.0  ...                77.0   \n",
       "\n",
       "       dst_host_same_srv_rate  dst_host_diff_srv_rate  \\\n",
       "0                        0.17                    0.03   \n",
       "1                        0.00                    0.60   \n",
       "2                        0.10                    0.05   \n",
       "3                        1.00                    0.00   \n",
       "4                        1.00                    0.00   \n",
       "...                       ...                     ...   \n",
       "125968                   0.10                    0.06   \n",
       "125969                   0.96                    0.01   \n",
       "125970                   0.12                    0.06   \n",
       "125971                   0.03                    0.05   \n",
       "125972                   0.30                    0.03   \n",
       "\n",
       "        dst_host_same_src_port_rate  dst_host_srv_diff_host_rate  \\\n",
       "0                              0.17                         0.00   \n",
       "1                              0.88                         0.00   \n",
       "2                              0.00                         0.00   \n",
       "3                              0.03                         0.04   \n",
       "4                              0.00                         0.00   \n",
       "...                             ...                          ...   \n",
       "125968                         0.00                         0.00   \n",
       "125969                         0.01                         0.00   \n",
       "125970                         0.00                         0.00   \n",
       "125971                         0.00                         0.00   \n",
       "125972                         0.30                         0.00   \n",
       "\n",
       "        dst_host_serror_rate  dst_host_srv_serror_rate  dst_host_rerror_rate  \\\n",
       "0                       0.00                      0.00                  0.05   \n",
       "1                       0.00                      0.00                  0.00   \n",
       "2                       1.00                      1.00                  0.00   \n",
       "3                       0.03                      0.01                  0.00   \n",
       "4                       0.00                      0.00                  0.00   \n",
       "...                      ...                       ...                   ...   \n",
       "125968                  1.00                      1.00                  0.00   \n",
       "125969                  0.00                      0.00                  0.00   \n",
       "125970                  0.72                      0.00                  0.01   \n",
       "125971                  1.00                      1.00                  0.00   \n",
       "125972                  0.00                      0.00                  0.00   \n",
       "\n",
       "        dst_host_srv_rerror_rate    label  \n",
       "0                           0.00   normal  \n",
       "1                           0.00   normal  \n",
       "2                           0.00  anomaly  \n",
       "3                           0.01   normal  \n",
       "4                           0.00   normal  \n",
       "...                          ...      ...  \n",
       "125968                      0.00  anomaly  \n",
       "125969                      0.00   normal  \n",
       "125970                      0.00   normal  \n",
       "125971                      0.00  anomaly  \n",
       "125972                      0.00   normal  \n",
       "\n",
       "[125973 rows x 42 columns]"
      ],
      "text/html": "<div>\n<style scoped>\n    .dataframe tbody tr th:only-of-type {\n        vertical-align: middle;\n    }\n\n    .dataframe tbody tr th {\n        vertical-align: top;\n    }\n\n    .dataframe thead th {\n        text-align: right;\n    }\n</style>\n<table border=\"1\" class=\"dataframe\">\n  <thead>\n    <tr style=\"text-align: right;\">\n      <th></th>\n      <th>duration</th>\n      <th>protocol_type</th>\n      <th>service</th>\n      <th>flag</th>\n      <th>src_bytes</th>\n      <th>dst_bytes</th>\n      <th>land</th>\n      <th>wrong_fragment</th>\n      <th>urgent</th>\n      <th>hot</th>\n      <th>...</th>\n      <th>dst_host_srv_count</th>\n      <th>dst_host_same_srv_rate</th>\n      <th>dst_host_diff_srv_rate</th>\n      <th>dst_host_same_src_port_rate</th>\n      <th>dst_host_srv_diff_host_rate</th>\n      <th>dst_host_serror_rate</th>\n      <th>dst_host_srv_serror_rate</th>\n      <th>dst_host_rerror_rate</th>\n      <th>dst_host_srv_rerror_rate</th>\n      <th>label</th>\n    </tr>\n  </thead>\n  <tbody>\n    <tr>\n      <th>0</th>\n      <td>0.0</td>\n      <td>tcp</td>\n      <td>ftp_data</td>\n      <td>SF</td>\n      <td>491.0</td>\n      <td>0.0</td>\n      <td>0</td>\n      <td>0.0</td>\n      <td>0.0</td>\n      <td>0.0</td>\n      <td>...</td>\n      <td>25.0</td>\n      <td>0.17</td>\n      <td>0.03</td>\n      <td>0.17</td>\n      <td>0.00</td>\n      <td>0.00</td>\n      <td>0.00</td>\n      <td>0.05</td>\n      <td>0.00</td>\n      <td>normal</td>\n    </tr>\n    <tr>\n      <th>1</th>\n      <td>0.0</td>\n      <td>udp</td>\n      <td>other</td>\n      <td>SF</td>\n      <td>146.0</td>\n      <td>0.0</td>\n      <td>0</td>\n      <td>0.0</td>\n      <td>0.0</td>\n      <td>0.0</td>\n      <td>...</td>\n      <td>1.0</td>\n      <td>0.00</td>\n      <td>0.60</td>\n      <td>0.88</td>\n      <td>0.00</td>\n      <td>0.00</td>\n      <td>0.00</td>\n      <td>0.00</td>\n      <td>0.00</td>\n      <td>normal</td>\n    </tr>\n    <tr>\n      <th>2</th>\n      <td>0.0</td>\n      <td>tcp</td>\n      <td>private</td>\n      <td>S0</td>\n      <td>0.0</td>\n      <td>0.0</td>\n      <td>0</td>\n      <td>0.0</td>\n      <td>0.0</td>\n      <td>0.0</td>\n      <td>...</td>\n      <td>26.0</td>\n      <td>0.10</td>\n      <td>0.05</td>\n      <td>0.00</td>\n      <td>0.00</td>\n      <td>1.00</td>\n      <td>1.00</td>\n      <td>0.00</td>\n      <td>0.00</td>\n      <td>anomaly</td>\n    </tr>\n    <tr>\n      <th>3</th>\n      <td>0.0</td>\n      <td>tcp</td>\n      <td>http</td>\n      <td>SF</td>\n      <td>232.0</td>\n      <td>8153.0</td>\n      <td>0</td>\n      <td>0.0</td>\n      <td>0.0</td>\n      <td>0.0</td>\n      <td>...</td>\n      <td>255.0</td>\n      <td>1.00</td>\n      <td>0.00</td>\n      <td>0.03</td>\n      <td>0.04</td>\n      <td>0.03</td>\n      <td>0.01</td>\n      <td>0.00</td>\n      <td>0.01</td>\n      <td>normal</td>\n    </tr>\n    <tr>\n      <th>4</th>\n      <td>0.0</td>\n      <td>tcp</td>\n      <td>http</td>\n      <td>SF</td>\n      <td>199.0</td>\n      <td>420.0</td>\n      <td>0</td>\n      <td>0.0</td>\n      <td>0.0</td>\n      <td>0.0</td>\n      <td>...</td>\n      <td>255.0</td>\n      <td>1.00</td>\n      <td>0.00</td>\n      <td>0.00</td>\n      <td>0.00</td>\n      <td>0.00</td>\n      <td>0.00</td>\n      <td>0.00</td>\n      <td>0.00</td>\n      <td>normal</td>\n    </tr>\n    <tr>\n      <th>...</th>\n      <td>...</td>\n      <td>...</td>\n      <td>...</td>\n      <td>...</td>\n      <td>...</td>\n      <td>...</td>\n      <td>...</td>\n      <td>...</td>\n      <td>...</td>\n      <td>...</td>\n      <td>...</td>\n      <td>...</td>\n      <td>...</td>\n      <td>...</td>\n      <td>...</td>\n      <td>...</td>\n      <td>...</td>\n      <td>...</td>\n      <td>...</td>\n      <td>...</td>\n      <td>...</td>\n    </tr>\n    <tr>\n      <th>125968</th>\n      <td>0.0</td>\n      <td>tcp</td>\n      <td>private</td>\n      <td>S0</td>\n      <td>0.0</td>\n      <td>0.0</td>\n      <td>0</td>\n      <td>0.0</td>\n      <td>0.0</td>\n      <td>0.0</td>\n      <td>...</td>\n      <td>25.0</td>\n      <td>0.10</td>\n      <td>0.06</td>\n      <td>0.00</td>\n      <td>0.00</td>\n      <td>1.00</td>\n      <td>1.00</td>\n      <td>0.00</td>\n      <td>0.00</td>\n      <td>anomaly</td>\n    </tr>\n    <tr>\n      <th>125969</th>\n      <td>8.0</td>\n      <td>udp</td>\n      <td>private</td>\n      <td>SF</td>\n      <td>105.0</td>\n      <td>145.0</td>\n      <td>0</td>\n      <td>0.0</td>\n      <td>0.0</td>\n      <td>0.0</td>\n      <td>...</td>\n      <td>244.0</td>\n      <td>0.96</td>\n      <td>0.01</td>\n      <td>0.01</td>\n      <td>0.00</td>\n      <td>0.00</td>\n      <td>0.00</td>\n      <td>0.00</td>\n      <td>0.00</td>\n      <td>normal</td>\n    </tr>\n    <tr>\n      <th>125970</th>\n      <td>0.0</td>\n      <td>tcp</td>\n      <td>smtp</td>\n      <td>SF</td>\n      <td>2231.0</td>\n      <td>384.0</td>\n      <td>0</td>\n      <td>0.0</td>\n      <td>0.0</td>\n      <td>0.0</td>\n      <td>...</td>\n      <td>30.0</td>\n      <td>0.12</td>\n      <td>0.06</td>\n      <td>0.00</td>\n      <td>0.00</td>\n      <td>0.72</td>\n      <td>0.00</td>\n      <td>0.01</td>\n      <td>0.00</td>\n      <td>normal</td>\n    </tr>\n    <tr>\n      <th>125971</th>\n      <td>0.0</td>\n      <td>tcp</td>\n      <td>klogin</td>\n      <td>S0</td>\n      <td>0.0</td>\n      <td>0.0</td>\n      <td>0</td>\n      <td>0.0</td>\n      <td>0.0</td>\n      <td>0.0</td>\n      <td>...</td>\n      <td>8.0</td>\n      <td>0.03</td>\n      <td>0.05</td>\n      <td>0.00</td>\n      <td>0.00</td>\n      <td>1.00</td>\n      <td>1.00</td>\n      <td>0.00</td>\n      <td>0.00</td>\n      <td>anomaly</td>\n    </tr>\n    <tr>\n      <th>125972</th>\n      <td>0.0</td>\n      <td>tcp</td>\n      <td>ftp_data</td>\n      <td>SF</td>\n      <td>151.0</td>\n      <td>0.0</td>\n      <td>0</td>\n      <td>0.0</td>\n      <td>0.0</td>\n      <td>0.0</td>\n      <td>...</td>\n      <td>77.0</td>\n      <td>0.30</td>\n      <td>0.03</td>\n      <td>0.30</td>\n      <td>0.00</td>\n      <td>0.00</td>\n      <td>0.00</td>\n      <td>0.00</td>\n      <td>0.00</td>\n      <td>normal</td>\n    </tr>\n  </tbody>\n</table>\n<p>125973 rows × 42 columns</p>\n</div>"
     },
     "metadata": {},
     "execution_count": 5
    }
   ],
   "source": [
    "kdd_train"
   ]
  },
  {
   "cell_type": "code",
   "execution_count": 50,
   "metadata": {},
   "outputs": [],
   "source": [
    "kdd_train.to_csv('./data/nslkdd/KDDTrain.csv')"
   ]
  },
  {
   "cell_type": "code",
   "execution_count": 6,
   "metadata": {},
   "outputs": [],
   "source": [
    "fp = open('./data/nslkdd/KDDTest+.arff')\n",
    "raw_data = arff.load(fp)"
   ]
  },
  {
   "cell_type": "code",
   "execution_count": 10,
   "metadata": {},
   "outputs": [
    {
     "output_type": "execute_result",
     "data": {
      "text/plain": [
       "       duration protocol_type   service  flag  src_bytes  dst_bytes land  \\\n",
       "0           0.0           tcp   private   REJ        0.0        0.0    0   \n",
       "1           0.0           tcp   private   REJ        0.0        0.0    0   \n",
       "2           2.0           tcp  ftp_data    SF    12983.0        0.0    0   \n",
       "3           0.0          icmp     eco_i    SF       20.0        0.0    0   \n",
       "4           1.0           tcp    telnet  RSTO        0.0       15.0    0   \n",
       "...         ...           ...       ...   ...        ...        ...  ...   \n",
       "22539       0.0           tcp      smtp    SF      794.0      333.0    0   \n",
       "22540       0.0           tcp      http    SF      317.0      938.0    0   \n",
       "22541       0.0           tcp      http    SF    54540.0     8314.0    0   \n",
       "22542       0.0           udp  domain_u    SF       42.0       42.0    0   \n",
       "22543       0.0           tcp    sunrpc   REJ        0.0        0.0    0   \n",
       "\n",
       "       wrong_fragment  urgent  hot  ...  dst_host_srv_count  \\\n",
       "0                 0.0     0.0  0.0  ...                10.0   \n",
       "1                 0.0     0.0  0.0  ...                 1.0   \n",
       "2                 0.0     0.0  0.0  ...                86.0   \n",
       "3                 0.0     0.0  0.0  ...                57.0   \n",
       "4                 0.0     0.0  0.0  ...                86.0   \n",
       "...               ...     ...  ...  ...                 ...   \n",
       "22539             0.0     0.0  0.0  ...               141.0   \n",
       "22540             0.0     0.0  0.0  ...               255.0   \n",
       "22541             0.0     0.0  2.0  ...               255.0   \n",
       "22542             0.0     0.0  0.0  ...               252.0   \n",
       "22543             0.0     0.0  0.0  ...                21.0   \n",
       "\n",
       "      dst_host_same_srv_rate  dst_host_diff_srv_rate  \\\n",
       "0                       0.04                    0.06   \n",
       "1                       0.00                    0.06   \n",
       "2                       0.61                    0.04   \n",
       "3                       1.00                    0.00   \n",
       "4                       0.31                    0.17   \n",
       "...                      ...                     ...   \n",
       "22539                   0.72                    0.06   \n",
       "22540                   1.00                    0.00   \n",
       "22541                   1.00                    0.00   \n",
       "22542                   0.99                    0.01   \n",
       "22543                   0.08                    0.03   \n",
       "\n",
       "       dst_host_same_src_port_rate  dst_host_srv_diff_host_rate  \\\n",
       "0                             0.00                         0.00   \n",
       "1                             0.00                         0.00   \n",
       "2                             0.61                         0.02   \n",
       "3                             1.00                         0.28   \n",
       "4                             0.03                         0.02   \n",
       "...                            ...                          ...   \n",
       "22539                         0.01                         0.01   \n",
       "22540                         0.01                         0.01   \n",
       "22541                         0.00                         0.00   \n",
       "22542                         0.00                         0.00   \n",
       "22543                         0.00                         0.00   \n",
       "\n",
       "       dst_host_serror_rate  dst_host_srv_serror_rate  dst_host_rerror_rate  \\\n",
       "0                      0.00                       0.0                  1.00   \n",
       "1                      0.00                       0.0                  1.00   \n",
       "2                      0.00                       0.0                  0.00   \n",
       "3                      0.00                       0.0                  0.00   \n",
       "4                      0.00                       0.0                  0.83   \n",
       "...                     ...                       ...                   ...   \n",
       "22539                  0.01                       0.0                  0.00   \n",
       "22540                  0.01                       0.0                  0.00   \n",
       "22541                  0.00                       0.0                  0.07   \n",
       "22542                  0.00                       0.0                  0.00   \n",
       "22543                  0.00                       0.0                  0.44   \n",
       "\n",
       "       dst_host_srv_rerror_rate    label  \n",
       "0                          1.00  anomaly  \n",
       "1                          1.00  anomaly  \n",
       "2                          0.00   normal  \n",
       "3                          0.00  anomaly  \n",
       "4                          0.71  anomaly  \n",
       "...                         ...      ...  \n",
       "22539                      0.00   normal  \n",
       "22540                      0.00   normal  \n",
       "22541                      0.07  anomaly  \n",
       "22542                      0.00   normal  \n",
       "22543                      1.00  anomaly  \n",
       "\n",
       "[22544 rows x 42 columns]"
      ],
      "text/html": "<div>\n<style scoped>\n    .dataframe tbody tr th:only-of-type {\n        vertical-align: middle;\n    }\n\n    .dataframe tbody tr th {\n        vertical-align: top;\n    }\n\n    .dataframe thead th {\n        text-align: right;\n    }\n</style>\n<table border=\"1\" class=\"dataframe\">\n  <thead>\n    <tr style=\"text-align: right;\">\n      <th></th>\n      <th>duration</th>\n      <th>protocol_type</th>\n      <th>service</th>\n      <th>flag</th>\n      <th>src_bytes</th>\n      <th>dst_bytes</th>\n      <th>land</th>\n      <th>wrong_fragment</th>\n      <th>urgent</th>\n      <th>hot</th>\n      <th>...</th>\n      <th>dst_host_srv_count</th>\n      <th>dst_host_same_srv_rate</th>\n      <th>dst_host_diff_srv_rate</th>\n      <th>dst_host_same_src_port_rate</th>\n      <th>dst_host_srv_diff_host_rate</th>\n      <th>dst_host_serror_rate</th>\n      <th>dst_host_srv_serror_rate</th>\n      <th>dst_host_rerror_rate</th>\n      <th>dst_host_srv_rerror_rate</th>\n      <th>label</th>\n    </tr>\n  </thead>\n  <tbody>\n    <tr>\n      <th>0</th>\n      <td>0.0</td>\n      <td>tcp</td>\n      <td>private</td>\n      <td>REJ</td>\n      <td>0.0</td>\n      <td>0.0</td>\n      <td>0</td>\n      <td>0.0</td>\n      <td>0.0</td>\n      <td>0.0</td>\n      <td>...</td>\n      <td>10.0</td>\n      <td>0.04</td>\n      <td>0.06</td>\n      <td>0.00</td>\n      <td>0.00</td>\n      <td>0.00</td>\n      <td>0.0</td>\n      <td>1.00</td>\n      <td>1.00</td>\n      <td>anomaly</td>\n    </tr>\n    <tr>\n      <th>1</th>\n      <td>0.0</td>\n      <td>tcp</td>\n      <td>private</td>\n      <td>REJ</td>\n      <td>0.0</td>\n      <td>0.0</td>\n      <td>0</td>\n      <td>0.0</td>\n      <td>0.0</td>\n      <td>0.0</td>\n      <td>...</td>\n      <td>1.0</td>\n      <td>0.00</td>\n      <td>0.06</td>\n      <td>0.00</td>\n      <td>0.00</td>\n      <td>0.00</td>\n      <td>0.0</td>\n      <td>1.00</td>\n      <td>1.00</td>\n      <td>anomaly</td>\n    </tr>\n    <tr>\n      <th>2</th>\n      <td>2.0</td>\n      <td>tcp</td>\n      <td>ftp_data</td>\n      <td>SF</td>\n      <td>12983.0</td>\n      <td>0.0</td>\n      <td>0</td>\n      <td>0.0</td>\n      <td>0.0</td>\n      <td>0.0</td>\n      <td>...</td>\n      <td>86.0</td>\n      <td>0.61</td>\n      <td>0.04</td>\n      <td>0.61</td>\n      <td>0.02</td>\n      <td>0.00</td>\n      <td>0.0</td>\n      <td>0.00</td>\n      <td>0.00</td>\n      <td>normal</td>\n    </tr>\n    <tr>\n      <th>3</th>\n      <td>0.0</td>\n      <td>icmp</td>\n      <td>eco_i</td>\n      <td>SF</td>\n      <td>20.0</td>\n      <td>0.0</td>\n      <td>0</td>\n      <td>0.0</td>\n      <td>0.0</td>\n      <td>0.0</td>\n      <td>...</td>\n      <td>57.0</td>\n      <td>1.00</td>\n      <td>0.00</td>\n      <td>1.00</td>\n      <td>0.28</td>\n      <td>0.00</td>\n      <td>0.0</td>\n      <td>0.00</td>\n      <td>0.00</td>\n      <td>anomaly</td>\n    </tr>\n    <tr>\n      <th>4</th>\n      <td>1.0</td>\n      <td>tcp</td>\n      <td>telnet</td>\n      <td>RSTO</td>\n      <td>0.0</td>\n      <td>15.0</td>\n      <td>0</td>\n      <td>0.0</td>\n      <td>0.0</td>\n      <td>0.0</td>\n      <td>...</td>\n      <td>86.0</td>\n      <td>0.31</td>\n      <td>0.17</td>\n      <td>0.03</td>\n      <td>0.02</td>\n      <td>0.00</td>\n      <td>0.0</td>\n      <td>0.83</td>\n      <td>0.71</td>\n      <td>anomaly</td>\n    </tr>\n    <tr>\n      <th>...</th>\n      <td>...</td>\n      <td>...</td>\n      <td>...</td>\n      <td>...</td>\n      <td>...</td>\n      <td>...</td>\n      <td>...</td>\n      <td>...</td>\n      <td>...</td>\n      <td>...</td>\n      <td>...</td>\n      <td>...</td>\n      <td>...</td>\n      <td>...</td>\n      <td>...</td>\n      <td>...</td>\n      <td>...</td>\n      <td>...</td>\n      <td>...</td>\n      <td>...</td>\n      <td>...</td>\n    </tr>\n    <tr>\n      <th>22539</th>\n      <td>0.0</td>\n      <td>tcp</td>\n      <td>smtp</td>\n      <td>SF</td>\n      <td>794.0</td>\n      <td>333.0</td>\n      <td>0</td>\n      <td>0.0</td>\n      <td>0.0</td>\n      <td>0.0</td>\n      <td>...</td>\n      <td>141.0</td>\n      <td>0.72</td>\n      <td>0.06</td>\n      <td>0.01</td>\n      <td>0.01</td>\n      <td>0.01</td>\n      <td>0.0</td>\n      <td>0.00</td>\n      <td>0.00</td>\n      <td>normal</td>\n    </tr>\n    <tr>\n      <th>22540</th>\n      <td>0.0</td>\n      <td>tcp</td>\n      <td>http</td>\n      <td>SF</td>\n      <td>317.0</td>\n      <td>938.0</td>\n      <td>0</td>\n      <td>0.0</td>\n      <td>0.0</td>\n      <td>0.0</td>\n      <td>...</td>\n      <td>255.0</td>\n      <td>1.00</td>\n      <td>0.00</td>\n      <td>0.01</td>\n      <td>0.01</td>\n      <td>0.01</td>\n      <td>0.0</td>\n      <td>0.00</td>\n      <td>0.00</td>\n      <td>normal</td>\n    </tr>\n    <tr>\n      <th>22541</th>\n      <td>0.0</td>\n      <td>tcp</td>\n      <td>http</td>\n      <td>SF</td>\n      <td>54540.0</td>\n      <td>8314.0</td>\n      <td>0</td>\n      <td>0.0</td>\n      <td>0.0</td>\n      <td>2.0</td>\n      <td>...</td>\n      <td>255.0</td>\n      <td>1.00</td>\n      <td>0.00</td>\n      <td>0.00</td>\n      <td>0.00</td>\n      <td>0.00</td>\n      <td>0.0</td>\n      <td>0.07</td>\n      <td>0.07</td>\n      <td>anomaly</td>\n    </tr>\n    <tr>\n      <th>22542</th>\n      <td>0.0</td>\n      <td>udp</td>\n      <td>domain_u</td>\n      <td>SF</td>\n      <td>42.0</td>\n      <td>42.0</td>\n      <td>0</td>\n      <td>0.0</td>\n      <td>0.0</td>\n      <td>0.0</td>\n      <td>...</td>\n      <td>252.0</td>\n      <td>0.99</td>\n      <td>0.01</td>\n      <td>0.00</td>\n      <td>0.00</td>\n      <td>0.00</td>\n      <td>0.0</td>\n      <td>0.00</td>\n      <td>0.00</td>\n      <td>normal</td>\n    </tr>\n    <tr>\n      <th>22543</th>\n      <td>0.0</td>\n      <td>tcp</td>\n      <td>sunrpc</td>\n      <td>REJ</td>\n      <td>0.0</td>\n      <td>0.0</td>\n      <td>0</td>\n      <td>0.0</td>\n      <td>0.0</td>\n      <td>0.0</td>\n      <td>...</td>\n      <td>21.0</td>\n      <td>0.08</td>\n      <td>0.03</td>\n      <td>0.00</td>\n      <td>0.00</td>\n      <td>0.00</td>\n      <td>0.0</td>\n      <td>0.44</td>\n      <td>1.00</td>\n      <td>anomaly</td>\n    </tr>\n  </tbody>\n</table>\n<p>22544 rows × 42 columns</p>\n</div>"
     },
     "metadata": {},
     "execution_count": 10
    }
   ],
   "source": [
    "col_names = ['duration', 'protocol_type', 'service', 'flag', 'src_bytes', \n",
    "             'dst_bytes', 'land', 'wrong_fragment', 'urgent', 'hot', \n",
    "             'num_failed_logins', 'logged_in', 'num_compromised', 'root_shell',\n",
    "             'su_attempted', 'num_root', 'num_file_creations', 'num_shells', \n",
    "             'num_access_files', 'num_outbound_cmds', 'is_host_login', \n",
    "             'is_guest_login', 'count', 'srv_count', 'serror_rate', \n",
    "             'srv_serror_rate', 'rerror_rate', 'srv_rerror_rate', \n",
    "             'same_srv_rate', 'diff_srv_rate', 'srv_diff_host_rate', \n",
    "             'dst_host_count', 'dst_host_srv_count', 'dst_host_same_srv_rate', \n",
    "             'dst_host_diff_srv_rate', 'dst_host_same_src_port_rate',\n",
    "             'dst_host_srv_diff_host_rate', 'dst_host_serror_rate', \n",
    "             'dst_host_srv_serror_rate', 'dst_host_rerror_rate', \n",
    "             'dst_host_srv_rerror_rate', 'label']\n",
    "kdd_test = pd.DataFrame(raw_data['data'], columns=col_names)\n",
    "kdd_test"
   ]
  },
  {
   "cell_type": "code",
   "execution_count": 13,
   "metadata": {},
   "outputs": [],
   "source": [
    "kdd_test.to_csv('./data/nslkdd/KDDTest.csv')"
   ]
  },
  {
   "cell_type": "code",
   "execution_count": null,
   "metadata": {},
   "outputs": [],
   "source": []
  }
 ]
}